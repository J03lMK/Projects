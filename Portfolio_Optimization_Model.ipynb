{
 "cells": [
  {
   "cell_type": "markdown",
   "metadata": {},
   "source": [
    "# Portfolio Optimization Model\n",
    "\n",
    "Done by Joel Kambey"
   ]
  },
  {
   "cell_type": "markdown",
   "metadata": {},
   "source": [
    " ### Objective\n",
    " \n",
    " To construct a portfolio based form different allocation strategies (example: by maximizing Sharpe Ratio or minimizing standard deviation/risk)."
   ]
  },
  {
   "cell_type": "code",
   "execution_count": 1,
   "metadata": {},
   "outputs": [],
   "source": [
    "%load_ext autoreload\n",
    "%autoreload 2\n",
    "%matplotlib inline"
   ]
  },
  {
   "cell_type": "markdown",
   "metadata": {},
   "source": [
    "Set the required functions (e.g. plotting the Efficient Frontier, Allocations, etc) and import the required libraries."
   ]
  },
  {
   "cell_type": "code",
   "execution_count": 2,
   "metadata": {},
   "outputs": [],
   "source": [
    "import pandas as pd\n",
    "import numpy as np\n",
    "\n",
    "def get_ind_returns():\n",
    "    \"\"\"\n",
    "    Load and format 30 Industry Portfolios Value Weighted Monthly Returns\n",
    "    \"\"\"\n",
    "    ind = pd.read_csv(\"data/ind30_m_vw_rets.csv\", header=0, index_col=0)/100\n",
    "    ind.index = pd.to_datetime(ind.index, format=\"%Y%m\").to_period('M')\n",
    "    ind.columns = ind.columns.str.strip()\n",
    "    return ind\n",
    "\n",
    "def annualize_rets(r, periods_per_year):\n",
    "    \"\"\"\n",
    "    Annualizes a set of returns\n",
    "    \"\"\"\n",
    "    compounded_growth = (1+r).prod()\n",
    "    n_periods = r.shape[0]\n",
    "    return compounded_growth**(periods_per_year/n_periods)-1\n",
    "\n",
    "def plot_ef(n_points, er, cov, style='.-', legend=False, show_cml=False, riskfree_rate=0):\n",
    "    \"\"\"\n",
    "    Plots the multi-asset efficient frontier\n",
    "    \"\"\"\n",
    "    weights = optimal_weights(n_points, er, cov)\n",
    "    rets = [portfolio_return(w, er) for w in weights]\n",
    "    vols = [portfolio_vol(w, cov) for w in weights]\n",
    "    ef = pd.DataFrame({\n",
    "        \"Returns\": rets, \n",
    "        \"Volatility\": vols\n",
    "    })\n",
    "    ax = ef.plot.line(x=\"Volatility\", y=\"Returns\", style=style, legend=legend)\n",
    "    if show_cml:\n",
    "        ax.set_xlim(left = 0)\n",
    "        # get MSR\n",
    "        w_msr = msr(riskfree_rate, er, cov)\n",
    "        r_msr = portfolio_return(w_msr, er)\n",
    "        vol_msr = portfolio_vol(w_msr, cov)\n",
    "        # add CML\n",
    "        cml_x = [0, vol_msr]\n",
    "        cml_y = [riskfree_rate, r_msr]\n",
    "        ax.plot(cml_x, cml_y, color='green', marker='o', linestyle='dashed', linewidth=2, markersize=12)\n",
    "    return ax\n",
    "\n",
    "def optimal_weights(n_points, er, cov):\n",
    "    \"\"\"\n",
    "    Returns a list of weights that represent a grid of n_points on the efficient frontier\n",
    "    \"\"\"\n",
    "    target_rs = np.linspace(er.min(), er.max(), n_points)\n",
    "    weights = [minimize_vol(target_return, er, cov) for target_return in target_rs]\n",
    "    return weights\n",
    "\n",
    "from scipy.optimize import minimize\n",
    "def minimize_vol(target_return, er, cov):\n",
    "    \"\"\"\n",
    "    Returns the optimal weights that minimize volatility\n",
    "    \"\"\"\n",
    "    n = er.shape[0]\n",
    "    init_guess = np.repeat(1/n, n)\n",
    "    bounds = ((0.0, 1.0),) * n # an N-tuple of 2-tuples!\n",
    "    # construct the constraints\n",
    "    weights_sum_to_1 = {'type': 'eq',\n",
    "                        'fun': lambda weights: np.sum(weights) - 1\n",
    "    }\n",
    "    return_is_target = {'type': 'eq',\n",
    "                        'args': (er,),\n",
    "                        'fun': lambda weights, er: target_return - portfolio_return(weights,er)\n",
    "    }\n",
    "    weights = minimize(portfolio_vol, init_guess,\n",
    "                       args=(cov,), method='SLSQP',\n",
    "                       options={'disp': False},\n",
    "                       constraints=(weights_sum_to_1,return_is_target),\n",
    "                       bounds=bounds)\n",
    "    return weights.x\n",
    "\n",
    "def msr(riskfree_rate, er, cov):\n",
    "    \"\"\"\n",
    "    Return the weights of the Maximum Sharpe Ratio portfolio\n",
    "    \"\"\"\n",
    "    n = er.shape[0]\n",
    "    init_guess = np.repeat(1/n, n)\n",
    "    bounds = ((0.0, 1.0),) * n # an N-tuple of 2-tuples!\n",
    "    # construct the constraints\n",
    "    weights_sum_to_1 = {'type': 'eq',\n",
    "                        'fun': lambda weights: np.sum(weights) - 1\n",
    "    }\n",
    "    def neg_sharpe(weights, riskfree_rate, er, cov):\n",
    "        \"\"\"\n",
    "        Returns the negative of the sharpe ratio\n",
    "        \"\"\"\n",
    "        r = portfolio_return(weights, er)\n",
    "        vol = portfolio_vol(weights, cov)\n",
    "        return -(r - riskfree_rate)/vol\n",
    "    \n",
    "    weights = minimize(neg_sharpe, init_guess,\n",
    "                       args=(riskfree_rate, er, cov), method='SLSQP',\n",
    "                       options={'disp': False},\n",
    "                       constraints=(weights_sum_to_1,),\n",
    "                       bounds=bounds)\n",
    "    return weights.x\n",
    "\n",
    "def gmv(cov):\n",
    "    \"\"\"\n",
    "    Return the weights of the Global Minimum Volatility portfolio\n",
    "    \"\"\"\n",
    "    n = cov.shape[0]\n",
    "    return msr(0, np.repeat(1, n), cov)\n",
    "\n",
    "def portfolio_return(weights, returns):\n",
    "    \"\"\"\n",
    "    Computes the return on a portfolio\n",
    "    \"\"\"\n",
    "    return weights.T @ returns\n",
    "\n",
    "def portfolio_vol(weights, covmat):\n",
    "    \"\"\"\n",
    "    Computes the volatility of a portfolio\n",
    "    \"\"\"\n",
    "    return (weights.T @ covmat @ weights)**0.5"
   ]
  },
  {
   "cell_type": "markdown",
   "metadata": {},
   "source": [
    "### Data Processing"
   ]
  },
  {
   "cell_type": "markdown",
   "metadata": {},
   "source": [
    "Lets use the returns data from the most recent 6-year window (from 2010 to 2016)."
   ]
  },
  {
   "cell_type": "code",
   "execution_count": 3,
   "metadata": {},
   "outputs": [],
   "source": [
    "ind = get_ind_returns()\n",
    "er = annualize_rets(ind[\"2010\":\"2016\"], 12)\n",
    "cov = ind[\"2010\":\"2016\"].cov()"
   ]
  },
  {
   "cell_type": "markdown",
   "metadata": {},
   "source": [
    "For this practice, the free dataset contains monthly return data from 30 different industries from 1926 to 2017."
   ]
  },
  {
   "cell_type": "code",
   "execution_count": 4,
   "metadata": {},
   "outputs": [
    {
     "data": {
      "text/html": [
       "<div>\n",
       "<style scoped>\n",
       "    .dataframe tbody tr th:only-of-type {\n",
       "        vertical-align: middle;\n",
       "    }\n",
       "\n",
       "    .dataframe tbody tr th {\n",
       "        vertical-align: top;\n",
       "    }\n",
       "\n",
       "    .dataframe thead th {\n",
       "        text-align: right;\n",
       "    }\n",
       "</style>\n",
       "<table border=\"1\" class=\"dataframe\">\n",
       "  <thead>\n",
       "    <tr style=\"text-align: right;\">\n",
       "      <th></th>\n",
       "      <th>Food</th>\n",
       "      <th>Beer</th>\n",
       "      <th>Smoke</th>\n",
       "      <th>Games</th>\n",
       "      <th>Books</th>\n",
       "      <th>Hshld</th>\n",
       "      <th>Clths</th>\n",
       "      <th>Hlth</th>\n",
       "      <th>Chems</th>\n",
       "      <th>Txtls</th>\n",
       "      <th>Cnstr</th>\n",
       "      <th>Steel</th>\n",
       "      <th>FabPr</th>\n",
       "      <th>ElcEq</th>\n",
       "      <th>Autos</th>\n",
       "      <th>Carry</th>\n",
       "      <th>Mines</th>\n",
       "      <th>Coal</th>\n",
       "      <th>Oil</th>\n",
       "      <th>Util</th>\n",
       "      <th>Telcm</th>\n",
       "      <th>Servs</th>\n",
       "      <th>BusEq</th>\n",
       "      <th>Paper</th>\n",
       "      <th>Trans</th>\n",
       "      <th>Whlsl</th>\n",
       "      <th>Rtail</th>\n",
       "      <th>Meals</th>\n",
       "      <th>Fin</th>\n",
       "      <th>Other</th>\n",
       "    </tr>\n",
       "  </thead>\n",
       "  <tbody>\n",
       "    <tr>\n",
       "      <th>1926-07</th>\n",
       "      <td>0.0056</td>\n",
       "      <td>-0.0519</td>\n",
       "      <td>0.0129</td>\n",
       "      <td>0.0293</td>\n",
       "      <td>0.1097</td>\n",
       "      <td>-0.0048</td>\n",
       "      <td>0.0808</td>\n",
       "      <td>0.0177</td>\n",
       "      <td>0.0814</td>\n",
       "      <td>0.0039</td>\n",
       "      <td>0.0207</td>\n",
       "      <td>0.0407</td>\n",
       "      <td>0.0543</td>\n",
       "      <td>0.0318</td>\n",
       "      <td>0.1639</td>\n",
       "      <td>0.0102</td>\n",
       "      <td>0.0564</td>\n",
       "      <td>0.0154</td>\n",
       "      <td>-0.0140</td>\n",
       "      <td>0.0704</td>\n",
       "      <td>0.0083</td>\n",
       "      <td>0.0922</td>\n",
       "      <td>0.0206</td>\n",
       "      <td>0.0770</td>\n",
       "      <td>0.0193</td>\n",
       "      <td>-0.2379</td>\n",
       "      <td>0.0007</td>\n",
       "      <td>0.0187</td>\n",
       "      <td>0.0037</td>\n",
       "      <td>0.0520</td>\n",
       "    </tr>\n",
       "    <tr>\n",
       "      <th>1926-08</th>\n",
       "      <td>0.0259</td>\n",
       "      <td>0.2703</td>\n",
       "      <td>0.0650</td>\n",
       "      <td>0.0055</td>\n",
       "      <td>0.1001</td>\n",
       "      <td>-0.0358</td>\n",
       "      <td>-0.0251</td>\n",
       "      <td>0.0425</td>\n",
       "      <td>0.0550</td>\n",
       "      <td>0.0814</td>\n",
       "      <td>0.0472</td>\n",
       "      <td>0.0217</td>\n",
       "      <td>0.0206</td>\n",
       "      <td>0.0210</td>\n",
       "      <td>0.0423</td>\n",
       "      <td>0.0166</td>\n",
       "      <td>0.0055</td>\n",
       "      <td>0.0085</td>\n",
       "      <td>0.0369</td>\n",
       "      <td>-0.0169</td>\n",
       "      <td>0.0217</td>\n",
       "      <td>0.0202</td>\n",
       "      <td>0.0439</td>\n",
       "      <td>-0.0238</td>\n",
       "      <td>0.0488</td>\n",
       "      <td>0.0539</td>\n",
       "      <td>-0.0075</td>\n",
       "      <td>-0.0013</td>\n",
       "      <td>0.0446</td>\n",
       "      <td>0.0676</td>\n",
       "    </tr>\n",
       "    <tr>\n",
       "      <th>1926-09</th>\n",
       "      <td>0.0116</td>\n",
       "      <td>0.0402</td>\n",
       "      <td>0.0126</td>\n",
       "      <td>0.0658</td>\n",
       "      <td>-0.0099</td>\n",
       "      <td>0.0073</td>\n",
       "      <td>-0.0051</td>\n",
       "      <td>0.0069</td>\n",
       "      <td>0.0533</td>\n",
       "      <td>0.0231</td>\n",
       "      <td>-0.0050</td>\n",
       "      <td>0.0015</td>\n",
       "      <td>0.0036</td>\n",
       "      <td>-0.0056</td>\n",
       "      <td>0.0483</td>\n",
       "      <td>0.0273</td>\n",
       "      <td>0.0174</td>\n",
       "      <td>0.0030</td>\n",
       "      <td>-0.0369</td>\n",
       "      <td>0.0204</td>\n",
       "      <td>0.0241</td>\n",
       "      <td>0.0225</td>\n",
       "      <td>0.0019</td>\n",
       "      <td>-0.0554</td>\n",
       "      <td>0.0005</td>\n",
       "      <td>-0.0787</td>\n",
       "      <td>0.0025</td>\n",
       "      <td>-0.0056</td>\n",
       "      <td>-0.0123</td>\n",
       "      <td>-0.0386</td>\n",
       "    </tr>\n",
       "    <tr>\n",
       "      <th>1926-10</th>\n",
       "      <td>-0.0306</td>\n",
       "      <td>-0.0331</td>\n",
       "      <td>0.0106</td>\n",
       "      <td>-0.0476</td>\n",
       "      <td>0.0947</td>\n",
       "      <td>-0.0468</td>\n",
       "      <td>0.0012</td>\n",
       "      <td>-0.0057</td>\n",
       "      <td>-0.0476</td>\n",
       "      <td>0.0100</td>\n",
       "      <td>-0.0455</td>\n",
       "      <td>-0.0385</td>\n",
       "      <td>0.0111</td>\n",
       "      <td>-0.0573</td>\n",
       "      <td>-0.0793</td>\n",
       "      <td>-0.0556</td>\n",
       "      <td>-0.0320</td>\n",
       "      <td>0.0223</td>\n",
       "      <td>-0.0104</td>\n",
       "      <td>-0.0263</td>\n",
       "      <td>-0.0011</td>\n",
       "      <td>-0.0200</td>\n",
       "      <td>-0.0109</td>\n",
       "      <td>-0.0508</td>\n",
       "      <td>-0.0264</td>\n",
       "      <td>-0.1538</td>\n",
       "      <td>-0.0220</td>\n",
       "      <td>-0.0411</td>\n",
       "      <td>-0.0516</td>\n",
       "      <td>-0.0849</td>\n",
       "    </tr>\n",
       "    <tr>\n",
       "      <th>1926-11</th>\n",
       "      <td>0.0635</td>\n",
       "      <td>0.0729</td>\n",
       "      <td>0.0455</td>\n",
       "      <td>0.0166</td>\n",
       "      <td>-0.0580</td>\n",
       "      <td>-0.0054</td>\n",
       "      <td>0.0187</td>\n",
       "      <td>0.0542</td>\n",
       "      <td>0.0520</td>\n",
       "      <td>0.0311</td>\n",
       "      <td>0.0220</td>\n",
       "      <td>0.0386</td>\n",
       "      <td>0.0318</td>\n",
       "      <td>0.0508</td>\n",
       "      <td>-0.0066</td>\n",
       "      <td>0.0787</td>\n",
       "      <td>0.0846</td>\n",
       "      <td>-0.0048</td>\n",
       "      <td>0.0006</td>\n",
       "      <td>0.0371</td>\n",
       "      <td>0.0163</td>\n",
       "      <td>0.0377</td>\n",
       "      <td>0.0364</td>\n",
       "      <td>0.0384</td>\n",
       "      <td>0.0160</td>\n",
       "      <td>0.0467</td>\n",
       "      <td>0.0652</td>\n",
       "      <td>0.0433</td>\n",
       "      <td>0.0224</td>\n",
       "      <td>0.0400</td>\n",
       "    </tr>\n",
       "  </tbody>\n",
       "</table>\n",
       "</div>"
      ],
      "text/plain": [
       "           Food    Beer   Smoke   Games   Books   Hshld   Clths    Hlth  \\\n",
       "1926-07  0.0056 -0.0519  0.0129  0.0293  0.1097 -0.0048  0.0808  0.0177   \n",
       "1926-08  0.0259  0.2703  0.0650  0.0055  0.1001 -0.0358 -0.0251  0.0425   \n",
       "1926-09  0.0116  0.0402  0.0126  0.0658 -0.0099  0.0073 -0.0051  0.0069   \n",
       "1926-10 -0.0306 -0.0331  0.0106 -0.0476  0.0947 -0.0468  0.0012 -0.0057   \n",
       "1926-11  0.0635  0.0729  0.0455  0.0166 -0.0580 -0.0054  0.0187  0.0542   \n",
       "\n",
       "          Chems   Txtls   Cnstr   Steel   FabPr   ElcEq   Autos   Carry  \\\n",
       "1926-07  0.0814  0.0039  0.0207  0.0407  0.0543  0.0318  0.1639  0.0102   \n",
       "1926-08  0.0550  0.0814  0.0472  0.0217  0.0206  0.0210  0.0423  0.0166   \n",
       "1926-09  0.0533  0.0231 -0.0050  0.0015  0.0036 -0.0056  0.0483  0.0273   \n",
       "1926-10 -0.0476  0.0100 -0.0455 -0.0385  0.0111 -0.0573 -0.0793 -0.0556   \n",
       "1926-11  0.0520  0.0311  0.0220  0.0386  0.0318  0.0508 -0.0066  0.0787   \n",
       "\n",
       "          Mines    Coal     Oil    Util   Telcm   Servs   BusEq   Paper  \\\n",
       "1926-07  0.0564  0.0154 -0.0140  0.0704  0.0083  0.0922  0.0206  0.0770   \n",
       "1926-08  0.0055  0.0085  0.0369 -0.0169  0.0217  0.0202  0.0439 -0.0238   \n",
       "1926-09  0.0174  0.0030 -0.0369  0.0204  0.0241  0.0225  0.0019 -0.0554   \n",
       "1926-10 -0.0320  0.0223 -0.0104 -0.0263 -0.0011 -0.0200 -0.0109 -0.0508   \n",
       "1926-11  0.0846 -0.0048  0.0006  0.0371  0.0163  0.0377  0.0364  0.0384   \n",
       "\n",
       "          Trans   Whlsl   Rtail   Meals     Fin   Other  \n",
       "1926-07  0.0193 -0.2379  0.0007  0.0187  0.0037  0.0520  \n",
       "1926-08  0.0488  0.0539 -0.0075 -0.0013  0.0446  0.0676  \n",
       "1926-09  0.0005 -0.0787  0.0025 -0.0056 -0.0123 -0.0386  \n",
       "1926-10 -0.0264 -0.1538 -0.0220 -0.0411 -0.0516 -0.0849  \n",
       "1926-11  0.0160  0.0467  0.0652  0.0433  0.0224  0.0400  "
      ]
     },
     "execution_count": 4,
     "metadata": {},
     "output_type": "execute_result"
    }
   ],
   "source": [
    "# set to display all columns in the dataframe\n",
    "pd.set_option('display.max_columns', None)\n",
    "\n",
    "# check the first 10 rows of the dataset\n",
    "ind.head()"
   ]
  },
  {
   "cell_type": "code",
   "execution_count": 5,
   "metadata": {},
   "outputs": [
    {
     "name": "stdout",
     "output_type": "stream",
     "text": [
      "<class 'pandas.core.frame.DataFrame'>\n",
      "PeriodIndex: 1110 entries, 1926-07 to 2018-12\n",
      "Freq: M\n",
      "Data columns (total 30 columns):\n",
      " #   Column  Non-Null Count  Dtype  \n",
      "---  ------  --------------  -----  \n",
      " 0   Food    1110 non-null   float64\n",
      " 1   Beer    1110 non-null   float64\n",
      " 2   Smoke   1110 non-null   float64\n",
      " 3   Games   1110 non-null   float64\n",
      " 4   Books   1110 non-null   float64\n",
      " 5   Hshld   1110 non-null   float64\n",
      " 6   Clths   1110 non-null   float64\n",
      " 7   Hlth    1110 non-null   float64\n",
      " 8   Chems   1110 non-null   float64\n",
      " 9   Txtls   1110 non-null   float64\n",
      " 10  Cnstr   1110 non-null   float64\n",
      " 11  Steel   1110 non-null   float64\n",
      " 12  FabPr   1110 non-null   float64\n",
      " 13  ElcEq   1110 non-null   float64\n",
      " 14  Autos   1110 non-null   float64\n",
      " 15  Carry   1110 non-null   float64\n",
      " 16  Mines   1110 non-null   float64\n",
      " 17  Coal    1110 non-null   float64\n",
      " 18  Oil     1110 non-null   float64\n",
      " 19  Util    1110 non-null   float64\n",
      " 20  Telcm   1110 non-null   float64\n",
      " 21  Servs   1110 non-null   float64\n",
      " 22  BusEq   1110 non-null   float64\n",
      " 23  Paper   1110 non-null   float64\n",
      " 24  Trans   1110 non-null   float64\n",
      " 25  Whlsl   1110 non-null   float64\n",
      " 26  Rtail   1110 non-null   float64\n",
      " 27  Meals   1110 non-null   float64\n",
      " 28  Fin     1110 non-null   float64\n",
      " 29  Other   1110 non-null   float64\n",
      "dtypes: float64(30)\n",
      "memory usage: 357.5 KB\n"
     ]
    }
   ],
   "source": [
    "# check for null dataset\n",
    "ind.info()"
   ]
  },
  {
   "cell_type": "markdown",
   "metadata": {},
   "source": [
    "### Building the Model"
   ]
  },
  {
   "cell_type": "markdown",
   "metadata": {},
   "source": [
    "Initialize and plot the Efficient Frontier."
   ]
  },
  {
   "cell_type": "code",
   "execution_count": 6,
   "metadata": {},
   "outputs": [
    {
     "data": {
      "text/plain": [
       "[<matplotlib.lines.Line2D at 0x7f14ba055c18>]"
      ]
     },
     "execution_count": 6,
     "metadata": {},
     "output_type": "execute_result"
    },
    {
     "data": {
      "image/png": "[encoded data removed]",
      "text/plain": [
       "<Figure size 432x288 with 1 Axes>"
      ]
     },
     "metadata": {
      "needs_background": "light"
     },
     "output_type": "display_data"
    }
   ],
   "source": [
    "# plot EF\n",
    "ax = plot_ef(20, er, cov)\n",
    "ax.set_xlim(left = 0)\n",
    "\n",
    "# Set Risk-Free Rate\n",
    "rf = 0.05\n",
    "\n",
    "# get MSR weights, return, and volatility\n",
    "w_msr = msr(rf, er, cov)\n",
    "r_msr = portfolio_return(w_msr, er)\n",
    "vol_msr = portfolio_vol(w_msr, cov)\n",
    "\n",
    "# get GMV weights, return, and volatility\n",
    "w_gmv = gmv(cov)\n",
    "r_gmv = portfolio_return(w_gmv, er)\n",
    "vol_gmv = portfolio_vol(w_gmv, cov)\n",
    "\n",
    "# add CML to the plot\n",
    "cml_x = [0, vol_msr]\n",
    "cml_y = [rf, r_msr]\n",
    "ax.plot(cml_x, cml_y, color='green', marker='o', linestyle='dashed', linewidth=2, markersize=12)"
   ]
  },
  {
   "cell_type": "markdown",
   "metadata": {},
   "source": [
    "### Portfolio Allocations\n",
    "\n",
    "1. Maximum Sharpe Ratio"
   ]
  },
  {
   "cell_type": "code",
   "execution_count": 7,
   "metadata": {},
   "outputs": [
    {
     "name": "stdout",
     "output_type": "stream",
     "text": [
      "Beer: 22.0%\n",
      "Smoke: 26.1%\n",
      "Txtls: 2.0%\n",
      "Meals: 50.0%\n"
     ]
    }
   ],
   "source": [
    "industries = list(ind.columns.values)\n",
    "msr_portfolio = np.round(w_msr, 3)*100\n",
    "\n",
    "for i in range(len(msr_portfolio)):\n",
    "    if msr_portfolio[i] != 0:\n",
    "        print (f'{industries[i]}: {round(msr_portfolio[i], 3)}%')"
   ]
  },
  {
   "cell_type": "markdown",
   "metadata": {},
   "source": [
    "2. Global Minimum Variance"
   ]
  },
  {
   "cell_type": "code",
   "execution_count": 8,
   "metadata": {},
   "outputs": [
    {
     "name": "stdout",
     "output_type": "stream",
     "text": [
      "Food: 2.8%\n",
      "Beer: 24.1%\n",
      "Hshld: 22.9%\n",
      "Hlth: 1.3%\n",
      "Util: 27.0%\n",
      "Meals: 21.9%\n"
     ]
    }
   ],
   "source": [
    "gmv_portfolio = np.round(w_gmv, 3)*100\n",
    "\n",
    "for i in range(len(gmv_portfolio)):\n",
    "    if gmv_portfolio[i] != 0:\n",
    "        print (f'{industries[i]}: {round(gmv_portfolio[i], 3)}%')"
   ]
  },
  {
   "cell_type": "markdown",
   "metadata": {},
   "source": [
    "### Backtesting\n",
    "\n",
    "Compare both portfolios performance when for example holding them for the first two months in 2017"
   ]
  },
  {
   "cell_type": "code",
   "execution_count": 9,
   "metadata": {},
   "outputs": [
    {
     "name": "stdout",
     "output_type": "stream",
     "text": [
      "MSR Portfolio Return: 0.51\n",
      "MSR Portfolio Volatility: 0.021\n"
     ]
    }
   ],
   "source": [
    "er_test = annualize_rets(ind['201701':'201702'], 12)\n",
    "cov_test =  cov = ind['201701':'201702'].cov()\n",
    "\n",
    "r_test_msr = portfolio_return(w_msr, er_test)\n",
    "vol_test_msr = portfolio_vol(w_msr, cov_test)\n",
    "\n",
    "print (f'MSR Portfolio Return: {round(r_test_msr,2)}')\n",
    "print (f'MSR Portfolio Volatility: {round(vol_test_msr,3)}')"
   ]
  },
  {
   "cell_type": "code",
   "execution_count": 10,
   "metadata": {},
   "outputs": [
    {
     "name": "stdout",
     "output_type": "stream",
     "text": [
      "GMV Portfolio Return: 0.37\n",
      "GMV Portfolio Volatility: 0.024\n"
     ]
    }
   ],
   "source": [
    "r_test_gmv = portfolio_return(w_gmv, er_test)\n",
    "vol_test_gmv = portfolio_vol(w_gmv, cov_test)\n",
    "\n",
    "print (f'GMV Portfolio Return: {round(r_test_gmv,2)}')\n",
    "print (f'GMV Portfolio Volatility: {round(vol_test_gmv,3)}')"
   ]
  },
  {
   "cell_type": "markdown",
   "metadata": {},
   "source": [
    "MSR Portfolio has the best performance for the first two months of 2017."
   ]
  }
 ],
 "metadata": {
  "kernelspec": {
   "display_name": "Python",
   "language": "python",
   "name": "conda-env-python-py"
  },
  "language_info": {
   "codemirror_mode": {
    "name": "ipython",
    "version": 3
   },
   "file_extension": ".py",
   "mimetype": "text/x-python",
   "name": "python",
   "nbconvert_exporter": "python",
   "pygments_lexer": "ipython3",
   "version": "3.6.11"
  }
 },
 "nbformat": 4,
 "nbformat_minor": 4
}
